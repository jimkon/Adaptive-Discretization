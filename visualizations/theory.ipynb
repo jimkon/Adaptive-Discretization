{
 "cells": [
  {
   "cell_type": "markdown",
   "metadata": {},
   "source": [
    "# Some theory\n",
    "\n",
    "The discretizing process is all about selecting some discrete points to represent the best a continuous space. One way to evaluate a discretization is to check for the __error__ it creates. I call this __error__  $ME$ (Mean Error) and it is actually the average distance of all the continuous points of that space, to their nearest discrete ones. \n",
    "\n",
    "To make it more clear, lets assume we have a signle dimensional continuous range and one point inside that range.\n"
   ]
  },
  {
   "cell_type": "code",
   "execution_count": null,
   "metadata": {},
   "outputs": [],
   "source": []
  }
 ],
 "metadata": {
  "kernelspec": {
   "display_name": "Python 3",
   "language": "python",
   "name": "python3"
  },
  "language_info": {
   "codemirror_mode": {
    "name": "ipython",
    "version": 3
   },
   "file_extension": ".py",
   "mimetype": "text/x-python",
   "name": "python",
   "nbconvert_exporter": "python",
   "pygments_lexer": "ipython3",
   "version": "3.5.2"
  }
 },
 "nbformat": 4,
 "nbformat_minor": 2
}
