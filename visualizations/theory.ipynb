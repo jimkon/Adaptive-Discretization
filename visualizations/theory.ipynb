{
 "cells": [
  {
   "cell_type": "markdown",
   "metadata": {},
   "source": [
    "## Theoretical background\n",
    "\n",
    "The discretizing process is all about selecting some discrete points to represent the best a continuous space. One way to evaluate a discretization is to check for the __error__ it creates. I call this __error__  $ME$ (Mean Error) and it is actually the average distance of all the continuous points of that space, to their nearest discrete ones.\n",
    "\n",
    "Before digging into the maths, i will explain some basic annotation.\n",
    "* $n$ is always the number of dimensions of our space.\n",
    "* $x$ is the variable vector point in that space\n",
    "* $k$ is the number of the discrete points\n",
    "* $x_{i}$ is the i-th discrete point\n",
    "* $a$,$b$ is the start and the end of the space ($a\\neq b$)\n",
    "\n",
    "Lets assume at the beginning we have a __signle dimensional__ ($n = 1$) continuous range and __one__ ($k=1$) point $x_{0}$ inside that range. The distance to any other point  $x$  is the Eucledian distance which for  $n=1$  equals to  $|x-x_{0}|$. The corresponding $ME$ for that dicretizations is the average distance to any other point in the given range $(a, b)$.\n",
    "\n",
    "$$ ME(x_0) = \\large\\frac{total \\: distance}{range} = \\frac{\\int_{a}^{b}|x-x_0|dx}{b-a} $$\n",
    "\n",
    "Solving this integral gives us:\n",
    "$$ ME(x_0) = \\large\\frac{x_0^2 + (a+b)x_0+\\frac{a^2+b^2}{2}}{b-a}$$\n",
    "\n",
    "The result is a quadratic function. The goal is to find the $x_0$ that minimizes $ME$.\n",
    "\n",
    "  \n",
    "$$  ME' = \\frac{2x_0-a-b}{b-a} $$\n",
    "\n",
    "$$  ME' = 0  \\Leftrightarrow  $$\n",
    "  \n",
    "$$  x_0 = \\frac{a+b}{2} $$\n",
    "\n",
    "As expected, the minimum is located a the center and its value is...\n",
    "\n",
    "$$ ME(x_0) = \\dots = \\frac{b-a}{4} $$"
   ]
  },
  {
   "cell_type": "code",
   "execution_count": 2,
   "metadata": {},
   "outputs": [
    {
     "data": {
      "text/plain": [
       "<matplotlib.figure.Figure at 0x7faa71fa9f60>"
      ]
     },
     "metadata": {},
     "output_type": "display_data"
    }
   ],
   "source": [
    "import numpy as np\n",
    "import matplotlib.pyplot as plt\n",
    "\n",
    "def ME(x_0, a, b):\n",
    "    return (x_0**2 - (a+b)*x_0 + (a**2 + b**2)/2)/(b-a)\n",
    "\n",
    "# ex. a=0, b=1\n",
    "a = 0\n",
    "b = 1\n",
    "x = np.linspace(a, b, 101)\n",
    "y = list(ME(x_i, a, b) for x_i in x)\n",
    "\n",
    "x_min = (a+b)/2\n",
    "y_min = ME(x_min, a, b)\n",
    "\n",
    "plt.plot(x, y, 'g')\n",
    "plt.plot(x_min, y_min, 'mo', label='minimum = {}'.format(y_min))\n",
    "plt.plot([a, b], [y_min]*2, 'r')\n",
    "plt.xlabel('range')\n",
    "plt.ylabel('ME')\n",
    "plt.grid(True)\n",
    "plt.legend()\n",
    "plt.show()"
   ]
  },
  {
   "cell_type": "markdown",
   "metadata": {},
   "source": [
    "#### Adding more discrete points\n",
    "\n",
    "To decrease further this error, or to increase the precision of our discretization, we can add more discrete points and split the initial range to sub-ranges for each point. The problem now is to find where to place all these points, and what ranges to assign to each.\n",
    "\n",
    "Actually the ranges are assigned automatically due to the fact that we calculate the mean error from the __nearest__ discrete point. So the range of each point is __half the distance__ to its nearest neighbor point or the limits $a,b$. What we did actually is that we split our initial range $[a, b]$ to $k$ sub-ranges $[a_0, b_0], [a_1, b_1], \\dots, [a_k-1, b_k-1]$ where the end of one sub-range is the beggining of the next.\n",
    "\n",
    "The $ME$ is now calculated like so:\n",
    "\n",
    "$$ ME = \\large\\frac{total \\: distance}{range} $$     \n",
    "$$ = \\frac{\\sum_{i=0}^{k}\\int_{a_i}^{b_i}|x-x_i|dx}{b-a} $$     \n",
    "$$ = \\frac1{b-a}\\sum_{i=0}^{k}x_i^2 + (a_i+b_i)x_i+\\frac{a_i^2+b_i^2}{2} $$     \n",
    "\n",
    "Another way to express this using the $ME$ of each point independently is:\n",
    "\n",
    "$$ ME = \\frac1{b-a}\\sum_{i=0}^{k}x_i^2 + (a_i+b_i)x_i+\\frac{a_i^2+b_i^2}{2} $$     \n",
    "$$ = \\frac{1}{b-a}\\sum_{i=0}^{k}\\frac{(b_i-a_i)}{(b_i-a_i)} * x_i^2 + (a_i+b_i)x_i+\\frac{a_i^2+b_i^2}{2} $$     \n",
    "$$ = \\sum_{i=0}^{k}\\frac{b_i-a_i}{b-a} * \\frac{x_i^2 + (a_i+b_i)x_i+\\frac{a_i^2+b_i^2}{2}}{b_i-a_i} $$     \n",
    "$$ = \\sum_{i=0}^{k}w_i*ME(x_i) $$     \n",
    "\n",
    "Where $\\large w_i=\\frac{b_i-a_i}{b-a}$ and is the weight of each $ME_i$ according to its range. \n",
    "\n",
    "We proved earlier that it is always better to have each point in the middle of its range. That means we can rewrite the formula of $ME$ like so:\n",
    "\n",
    "$$ ME = \\sum_{i=0}^{k}w_i*ME(x_i) $$\n",
    "$$ = \\sum_{i=0}^{k}\\frac{b_i-a_i}{b-a} \\frac{b_i-a_i}{4} $$     \n",
    "$$ = \\sum_{i=0}^{k}\\frac{(b_i-a_i)^2}{4(b-a)}$$     \n",
    "$$ = \\frac{1}{4(b-a)}\\sum_{i=0}^{k}(b_i-a_i)^2$$     \n",
    "\n"
   ]
  },
  {
   "cell_type": "code",
   "execution_count": 3,
   "metadata": {},
   "outputs": [
    {
     "name": "stdout",
     "output_type": "stream",
     "text": [
      "ranges [0.         0.10506888 0.28722752 0.6202753  1.        ] \n",
      "\n",
      "discrete points [0.05253444132357166, 0.19614820124036253, 0.4537514094865156, 0.8101376495697248]\n",
      "ME(0.05253444132357166, a=0.0, b=0.10506888264714331) = 0.02626722066178583\n",
      "ME(0.19614820124036253, a=0.10506888264714331, b=0.28722751983358175) = 0.045539659296609615\n",
      "ME(0.4537514094865156, a=0.28722751983358175, b=0.6202752991394495) = 0.08326194482646693\n",
      "ME(0.8101376495697248, a=0.6202752991394495, b=1.0) = 0.09493117521513757\n"
     ]
    },
    {
     "data": {
      "image/png": "[encoded data removed]",
      "text/plain": [
       "<matplotlib.figure.Figure at 0x7faa5587c860>"
      ]
     },
     "metadata": {},
     "output_type": "display_data"
    },
    {
     "name": "stdout",
     "output_type": "stream",
     "text": [
      "weights [0.10506888264714331, 0.18215863718643843, 0.3330477793058677, 0.37972470086055055]\n",
      "weighted MEs [0.00275987 0.00829544 0.02773021 0.03604771]\n",
      "\n",
      "-->mean error 0.07483322773663603\n"
     ]
    }
   ],
   "source": [
    "# pick 4 random points in range [0, 1]\n",
    "k = 4\n",
    "ranges = np.array([a])\n",
    "ranges = np.append(ranges, np.sort(np.random.uniform(a, b, size=k-1)))\n",
    "ranges = np.append(ranges, b)\n",
    "print('ranges', ranges,'\\n')\n",
    "\n",
    "x_is = list((ranges[i]+ranges[i+1])/2 for i in range(k))\n",
    "print('discrete points', x_is)\n",
    "\n",
    "# plot\n",
    "MEs = list(ME(x_is[i], ranges[i], ranges[i+1]) for i in range(len(x_is)))\n",
    "for i in range(len(x_is)):\n",
    "    print('ME({}, a={}, b={}) = {}'.format(x_is[i], ranges[i], ranges[i+1], MEs[i]))\n",
    "    plt.plot(x_is[i], 0, 'bo')\n",
    "    plt.plot([ranges[i], ranges[i+1]], [MEs[i]]*2, 'r')\n",
    "    x = np.linspace(ranges[i], ranges[i+1], 21)\n",
    "    y = list(ME(x_i, ranges[i], ranges[i+1]) for x_i in x)\n",
    "    plt.plot(x, y, 'g')\n",
    "    plt.plot([x_is[i], x_is[i]], [0, y[0]], 'm', linewidth=.5)\n",
    "\n",
    "plt.xlabel('range')\n",
    "plt.ylabel('ME')\n",
    "plt.grid(True)\n",
    "plt.show()\n",
    "plt.show()\n",
    "\n",
    "# apply weights one each ME according to each range's lenght\n",
    "weights = list((ranges[i+1] - ranges[i])/(b-a) for i in range(k))\n",
    "print('weights', weights)\n",
    "weighted_MEs = np.multiply(weights, MEs)\n",
    "print('weighted MEs', weighted_MEs)\n",
    "\n",
    "print('\\n-->mean error', np.sum(weighted_MEs))"
   ]
  },
  {
   "cell_type": "markdown",
   "metadata": {},
   "source": [
    "#### Optimizing\n",
    "The example above shows that even with a random discretization, the $ME$ is decreased by a great amount. Though, if we chose more wisely the locations of the points, we could achieve an even lower mean error. Βringing the points on the center of the ranges is not the only optimazation that can be done. As we can see, our function depends exponentialy from the lenght of the ranges that we split the space. That means the only thing that matters for the ranges, is to make them as small as they can get. Because the actual values of $a_i$s and $b_i$s don't play any role, only the length of the range the define, from now on i will refer to them as $l_i$s, and $l$ for the $a-b$, where\n",
    "$$\\sum_{i=0}^{k}{l_i}=b-a=l$$\n",
    "\n",
    "$$ ME = \\frac{1}{4l}\\sum_{i=0}^{k}l_i^2$$\n",
    "\n",
    "That means the only thing that matters for the ranges, is to make them as small as they can get. Intuitively we can think that the minimum is where all the ranges have the same length, which means that the uniform discretization is optimal. One way to prove it is by using the **Cauchy–Schwarz inequality**([TMM's idea](https://math.stackexchange.com/questions/67192/how-to-prove-the-sum-of-squares-is-minimum)).\n",
    "\n",
    "$$(\\sum_{i=0}^{k}{x_iy_i})^2 \\leq \\sum_{i=0}^{k}{x_i}^2\\sum_{i=0}^{k}{y_i}^2$$\n",
    "\n",
    "In our case we don't have $y_i$s so we set it equal to 1 with sum $=k$ of course, and our $x_i$s are actually $d_i$s.\n",
    "\n",
    "$$(\\sum_{i=0}^{k}{l_i})^2 \\leq k\\sum_{i=0}^{k}{l_i}^2$$\n",
    "\n",
    "Because the ranges come up from a split, if we merge them again we get the initial range, which means that:\n",
    "\n",
    "$$\\sum_{i=0}^{k}{l_i}=l$$\n",
    "\n",
    "Combining we get:\n",
    "\n",
    "$$l^2 \\leq k\\sum_{i=0}^{k}{l_i}^2$$\n",
    "\n",
    "Lets assume:\n",
    "$$ l_i = \\frac{l}{k} \\rightarrow$$\n",
    "\n",
    "$$\\frac1k\\sum_{i=0}^{k}{l_i}^2 = k*k\\frac{l^2}{k^2} = l^2$$\n",
    "\n",
    "That $l_i$ achieve the lowest bound, and **proves that the uniform discretization is optimal**.\n",
    "$$ ME = \\frac{1}{4l}\\sum_{i=0}^{k}l_i^2$$\n",
    "$$ = \\frac{1}{4l}k\\frac{l^2}{k^2}$$\n",
    "$$ = \\frac{1}{4l}\\frac{l^2}{k}$$\n",
    "$$ = \\frac{l}{4k}$$\n",
    "\n",
    "The $ME$ is inversely related to the number of points."
   ]
  },
  {
   "cell_type": "code",
   "execution_count": 4,
   "metadata": {},
   "outputs": [
    {
     "name": "stdout",
     "output_type": "stream",
     "text": [
      "ranges [0.   0.25 0.5  0.75 1.  ] \n",
      "\n",
      "discrete points [0.125, 0.375, 0.625, 0.875]\n",
      "ME(0.125, a=0.0, b=0.25) = 0.0625\n",
      "ME(0.375, a=0.25, b=0.5) = 0.0625\n",
      "ME(0.625, a=0.5, b=0.75) = 0.0625\n",
      "ME(0.875, a=0.75, b=1.0) = 0.0625\n"
     ]
    },
    {
     "data": {
      "image/png": "[encoded data removed]",
      "text/plain": [
       "<matplotlib.figure.Figure at 0x7faa557fb7f0>"
      ]
     },
     "metadata": {},
     "output_type": "display_data"
    },
    {
     "name": "stdout",
     "output_type": "stream",
     "text": [
      "weights [0.25, 0.25, 0.25, 0.25]\n",
      "weighted MEs [0.015625 0.015625 0.015625 0.015625]\n",
      "\n",
      "-->mean error 0.0625\n"
     ]
    }
   ],
   "source": [
    "# applying uniform discretization to our previous example, expecting ME = 0.0625\n",
    "# pick 4 uniform spaced points in range [0, 1]\n",
    "k = 4\n",
    "ranges = np.linspace(a, b, k+1)\n",
    "print('ranges', ranges,'\\n')\n",
    "\n",
    "x_is = list((ranges[i]+ranges[i+1])/2 for i in range(k))\n",
    "print('discrete points', x_is)\n",
    "\n",
    "# plot\n",
    "MEs = list(ME(x_is[i], ranges[i], ranges[i+1]) for i in range(len(x_is)))\n",
    "for i in range(len(x_is)):\n",
    "    print('ME({}, a={}, b={}) = {}'.format(x_is[i], ranges[i], ranges[i+1], MEs[i]))\n",
    "    plt.plot(x_is[i], 0, 'bo')\n",
    "    plt.plot([ranges[i], ranges[i+1]], [MEs[i]]*2, 'r')\n",
    "    x = np.linspace(ranges[i], ranges[i+1], 21)\n",
    "    y = list(ME(x_i, ranges[i], ranges[i+1]) for x_i in x)\n",
    "    plt.plot(x, y, 'g')\n",
    "    plt.plot([x_is[i], x_is[i]], [0, y[0]], 'm', linewidth=.5)\n",
    "\n",
    "plt.xlabel('range')\n",
    "plt.ylabel('ME')\n",
    "plt.grid(True)\n",
    "plt.show()\n",
    "\n",
    "# apply weights one each ME according to each range's lenght\n",
    "weights = list((ranges[i+1] - ranges[i])/(b-a) for i in range(k))\n",
    "print('weights', weights)\n",
    "weighted_MEs = np.multiply(weights, MEs)\n",
    "print('weighted MEs', weighted_MEs)\n",
    "\n",
    "print('\\n-->mean error', np.sum(weighted_MEs))\n"
   ]
  },
  {
   "cell_type": "markdown",
   "metadata": {},
   "source": [
    "#### Generalizing over any number of dimension\n",
    "So we show the basic principles of discretizing a single dimension space.\n",
    "\n",
    "* Points are now vectors and have $n$ components.\n",
    " $$ \\hat x =  [x_0, x_1, \\dots,x_{n-1} ]$$\n",
    "\n",
    "* Same for $ \\hat a, \\hat b$ and $\\hat l$.\n",
    "\n",
    "* The distance between a continuous point $\\hat y$ and its nearest discrete $\\hat x_i$ is the Euclidean norm.\n",
    "$$ distance = |\\hat y - \\hat x_i|=\\sqrt{\\sum_{j=0}^{n-1}{(y_j-x_{i_j})^2}}$$\n",
    "\n",
    "* Range now is region of space and for a given point $\\hat x_i$ is calculated through:\n",
    "$$ space(\\hat x_i) = \\prod_{j=0}^{n-1}l_{i_j} = l_{i_1} l_{i_2} \\dots  l_{i_{n-1}} $$\n",
    "\n",
    "* The simplified formulas we found earlier for $ME$ are a special case for $n=1$ and cannot be applied in a any other case. So the mean error is calculated through:\n",
    "$$ ME(\\hat x_i) = \\frac{total\\:distance}{space} = \\frac{\\int_{a_{i_1}}^{b_{i_1}}\\int_{a_{i_1}}^{b_{i_2}}\\dots\\int_{a_{i_1}}^{b_{i_{n-1}}}\\sqrt{(y_1-x_{i_1})^2+(y_2-x_{i_2})^2+\\dots+(y_{n-1}-x_{i_{n-1}})^2}dy_{n-1} \\dots dy_2 dy_1}{l_{i_1} l_{i_2} \\dots  l_{i_{n-1}}}$$     \n",
    "\n",
    "And the total $ME$ for all the discrete points is:\n",
    "$$ ME = \\sum_{i=0}^{k}w_i*ME(\\hat x_i) $$         \n",
    "$$  = \\sum_{i=0}^{k}\\frac{space(\\hat x_i)}{total \\: space}*ME(\\hat x_i) $$         \n",
    "$$  = \\sum_{i=0}^{k}\\frac{\\prod_{j=0}^{n-1}l_{i_j}}{\\prod_{j=0}^{n-1}l_{j}}ME(\\hat x_i) $$     \n",
    "$$  = \\sum_{i=0}^{k}\\frac{l_{i_1} l_{i_2} \\dots  l_{i_{n-1}}}{l_1 l_2 \\dots  l_{n-1}}ME(\\hat x_i) $$   \n",
    "\n",
    "\n",
    "Adding more dimensions make the formulas more complex, but the principles are similar. It is definately optimal to place the discrete points in the middle of their region, and to make the regions as smaller as they can be. \n",
    "\n",
    "#### Non uniform use of the space\n",
    "Untill now, we are searching for the optimal locations to place some discrete points, in order to reduce the mean distance from __any__ other continuous point in their region. It's like we assume that __any__ point in the space is equally possible. But this is not always the case. And in this project we are dealing with spaces that most of the times have regions with higher probabilities of giving points. In other words, the probability distribution is rarely uniform. This means that an evenly spaced grid of discrete points may not be the optimal solution. What changes for the $ME$ in this situation is the total distance for each discrete point.\n",
    "\n",
    "$$ total\\:distance(\\hat x_i) = \\int_{a_i}^{b_i}Pr(\\hat y)|\\hat y - \\hat x_i|d\\hat y $$\n",
    "\n",
    "Some distances tend to come more ofter and can increase the $ME$ or if we take advantage of this we can decrease it even further.\n",
    "\n",
    "For example:"
   ]
  },
  {
   "cell_type": "code",
   "execution_count": 30,
   "metadata": {},
   "outputs": [
    {
     "name": "stdout",
     "output_type": "stream",
     "text": [
      "discrete points [0.125, 0.375, 0.625, 0.875]\n",
      "Probability density function [0.09090909090909091, 0.09090909090909091, 0.09090909090909091, 0.09090909090909091, 0.09090909090909091, 0.18181818181818182, 0.18181818181818182, 0.18181818181818182]\n"
     ]
    },
    {
     "data": {
      "image/png": "[encoded data removed]",
      "text/plain": [
       "<matplotlib.figure.Figure at 0x7faa8006b710>"
      ]
     },
     "metadata": {},
     "output_type": "display_data"
    },
    {
     "data": {
      "image/png": "[encoded data removed]",
      "text/plain": [
       "<matplotlib.figure.Figure at 0x7faa557b7710>"
      ]
     },
     "metadata": {},
     "output_type": "display_data"
    },
    {
     "name": "stdout",
     "output_type": "stream",
     "text": [
      "ME(0.125, a=0.1, b=0.3) = 0.0008281818181818064\n",
      "ME(0.375, a=0.3, b=0.5) = 0.001895227272727283\n",
      "ME(0.625, a=0.5, b=0.65) = 0.0033368181818179982\n",
      "ME(0.875, a=0.65, b=0.8) = 0.002367272727272633\n"
     ]
    },
    {
     "data": {
      "image/png": "[encoded data removed]",
      "text/plain": [
       "<matplotlib.figure.Figure at 0x7faa57b91c88>"
      ]
     },
     "metadata": {},
     "output_type": "display_data"
    },
    {
     "name": "stdout",
     "output_type": "stream",
     "text": [
      "\n",
      "-->mean error 0.00842749999999972\n"
     ]
    }
   ],
   "source": [
    "# using our previous discrete points\n",
    "x_is = [0.125, 0.375, 0.625, 0.875]\n",
    "print('discrete points', x_is)\n",
    "x_is = np.array(x_is)\n",
    "\n",
    "def Pr(x):\n",
    "    if x<0.6:\n",
    "        return 1/11\n",
    "    else:\n",
    "        return 2/11\n",
    "    \n",
    "space = np.arange(8)/10+0.1\n",
    "pdf = list(Pr(x) for x in space)\n",
    "print('Probability density function', pdf)\n",
    "\n",
    "# get some random continuous points in [a, b]\n",
    "plt.plot(x_is, np.zeros(len(x_is)), 'ro', label='x_is')\n",
    "plt.bar(space, pdf, width=.09)\n",
    "plt.title('Distribution')\n",
    "plt.xlabel('Space')\n",
    "plt.ylabel('Probability')\n",
    "plt.legend()\n",
    "plt.grid(True)\n",
    "plt.show()\n",
    "\n",
    "number_of_points = 10000\n",
    "ys = np.random.choice(space, size=number_of_points, p=pdf)\n",
    "plt.hist(ys, bins=20)\n",
    "plt.show()\n",
    "\n",
    "# calculate the mean error\n",
    "distances = np.zeros(len(x_is))\n",
    "counts = np.zeros(len(x_is))\n",
    "for y in ys:\n",
    "    dist = np.abs(y-x_is)\n",
    "    argmin = np.argmin(dist)\n",
    "    distances[argmin] += Pr(y)*dist[argmin]\n",
    "\n",
    "distances /= number_of_points\n",
    "\n",
    "for i in range(len(x_is)):\n",
    "    print('ME({}, a={}, b={}) = {}'.format(x_is[i], ranges[i], ranges[i+1], distances[i]))\n",
    "    plt.plot(x_is[i], 0, 'bo')\n",
    "    plt.plot([ranges[i], ranges[i+1]], [distances[i]]*2, 'r')\n",
    "\n",
    "# plt.title('Distribution')\n",
    "plt.xlabel('Space')\n",
    "plt.ylabel('ME')\n",
    "plt.grid(True)\n",
    "plt.show()\n",
    "# range = b-a = 1\n",
    "print('\\n-->mean error', np.sum(distances))\n"
   ]
  },
  {
   "cell_type": "markdown",
   "metadata": {},
   "source": [
    "From the example above, we see that each point have a different $ME$, and the total $ME$ is higher than the optimal. The maximum is for $x_2 = 0.625$  and this happens due to its distance to $x=0.7$. While $x_2$ is very close to $0.6$ and thus the mean error for this distance is very small, its mean error increases by a reasonable amount for the $x=0.7$ which is quite far away and have a great probability of appearing.  "
   ]
  },
  {
   "cell_type": "code",
   "execution_count": 31,
   "metadata": {},
   "outputs": [
    {
     "name": "stdout",
     "output_type": "stream",
     "text": [
      "new discrete points [0.2, 0.41, 0.61, 0.72]\n",
      "ME(0.2, a=0.1, b=0.3) = 0.0016827272727273068\n",
      "ME(0.41, a=0.3, b=0.5) = 0.000847727272727259\n",
      "ME(0.61, a=0.5, b=0.65) = 0.0003381818181818226\n",
      "ME(0.72, a=0.65, b=0.8) = 0.003189454545454636\n"
     ]
    },
    {
     "data": {
      "image/png": "[encoded data removed]",
      "text/plain": [
       "<matplotlib.figure.Figure at 0x7faa554d6240>"
      ]
     },
     "metadata": {},
     "output_type": "display_data"
    },
    {
     "name": "stdout",
     "output_type": "stream",
     "text": [
      "\n",
      "-->mean error 0.006058090909091024\n"
     ]
    }
   ],
   "source": [
    "##### try other discrete points\n",
    "x_is = [0.2, 0.41, 0.61, 0.72]\n",
    "print('new discrete points', x_is)\n",
    "\n",
    "ranges = [0.1, 0.3, 0.5, 0.65, 0.8]\n",
    "x_is = np.array(x_is)\n",
    "\n",
    "# calculate the mean error\n",
    "distances = np.zeros(len(x_is))\n",
    "counts = np.zeros(len(x_is))\n",
    "for y in ys:\n",
    "    dist = np.abs(y-x_is)\n",
    "    argmin = np.argmin(dist)\n",
    "    distances[argmin] += Pr(y)*dist[argmin]\n",
    "\n",
    "distances /= number_of_points\n",
    "for i in range(len(x_is)):\n",
    "    print('ME({}, a={}, b={}) = {}'.format(x_is[i], ranges[i], ranges[i+1], distances[i]))\n",
    "    plt.plot(x_is[i], 0, 'bo')\n",
    "    plt.plot([ranges[i], ranges[i+1]], [distances[i]]*2, 'r')\n",
    "\n",
    "# plt.title('Distribution')\n",
    "plt.xlabel('Space')\n",
    "plt.ylabel('ME')\n",
    "plt.grid(True)\n",
    "plt.show()\n",
    "# range = b-a = 1\n",
    "print('\\n-->mean error', np.sum(distances))"
   ]
  },
  {
   "cell_type": "markdown",
   "metadata": {},
   "source": [
    "Randomly experimenting with the locations of $x_is$  we can reduce the mean error even beyond the limits of the uniform space.   \n",
    "\n",
    "The distribution of $x$ is known, we also know the function of the distance of the points, so by solving the $ME$ function we can achieve the optimal $x_is$ that minimize it.\n",
    "\n",
    "Though, we usually don't have a prior knowledge of the distribution. We only have the limits of the space, and the number of points we can use. So after the user start searching the nearest points to the corresponding points he needs, we will start getting an estimation of the distribution function. Also, minimizing the $ME$ function is getting complex as the number of dimensions is increasing, in a way that it doesn't worth calculation every time we change our estimation of the $PDF$ of $x$, or every time the $PDF$ of $x$ actually changes. Finally, the only information we have and can make use of, is the distance of the points that user gave as feedback, to the points the we discretized the space.    \n",
    "\n",
    "So what we finally get from all this theory?\n",
    "\n",
    "### Conclusion\n",
    "All the maths and the formulas above helped us distinguish the principles under the topic of achieving the minimum Mean Error when discretizating a given space. We can sum up them to the following bullets.\n",
    "\n",
    "* The optimal locations to place the discrete points depend on the probability distribution of the appearance of the corresponding continuous points.\n",
    "* The total $ME$ of a discretization depends on the weighted sum of the $ME$ that each individual point produces.\n",
    "* The location of each sub-space doesn't matter, only its size and its shape.\n",
    "* Each point must be located on the __expected value__ or the __mean__ of the $PDF$ of its corresponding sub-space, for example in the middle for uniform distributions.\n",
    "* For the uniform distribution, the $ME$ is inversely related to the number of points. If we split a cube in k other cubes, the precision will be k-times higher.\n"
   ]
  },
  {
   "cell_type": "code",
   "execution_count": null,
   "metadata": {},
   "outputs": [],
   "source": []
  }
 ],
 "metadata": {
  "kernelspec": {
   "display_name": "Python 3",
   "language": "python",
   "name": "python3"
  },
  "language_info": {
   "codemirror_mode": {
    "name": "ipython",
    "version": 3
   },
   "file_extension": ".py",
   "mimetype": "text/x-python",
   "name": "python",
   "nbconvert_exporter": "python",
   "pygments_lexer": "ipython3",
   "version": "3.5.2"
  }
 },
 "nbformat": 4,
 "nbformat_minor": 2
}
