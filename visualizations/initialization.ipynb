{
 "cells": [
  {
   "cell_type": "code",
   "execution_count": 1,
   "metadata": {},
   "outputs": [
    {
     "data": {
      "text/plain": [
       "[[1, 3, 7, 15, 31],\n",
       " [1, 5, 21, 85, 341],\n",
       " [1, 9, 73, 585, 4681],\n",
       " [1, 17, 273, 4369, 69905],\n",
       " [1, 33, 1057, 33825, 1082401]]"
      ]
     },
     "execution_count": 1,
     "metadata": {},
     "output_type": "execute_result"
    }
   ],
   "source": [
    "def nodes_at_level(level, dims):\n",
    "    if level < 0:\n",
    "        return 0\n",
    "    return 2**(level*dims)+nodes_at_level(level-1, dims)\n",
    "l = []\n",
    "for dims in range(1, 6):\n",
    "    l.append(list(nodes_at_level(level, dims) for level in range(5)))\n",
    "l"
   ]
  },
  {
   "cell_type": "code",
   "execution_count": null,
   "metadata": {},
   "outputs": [],
   "source": []
  }
 ],
 "metadata": {
  "kernelspec": {
   "display_name": "Python 3",
   "language": "python",
   "name": "python3"
  },
  "language_info": {
   "codemirror_mode": {
    "name": "ipython",
    "version": 3
   },
   "file_extension": ".py",
   "mimetype": "text/x-python",
   "name": "python",
   "nbconvert_exporter": "python",
   "pygments_lexer": "ipython3",
   "version": "3.5.2"
  }
 },
 "nbformat": 4,
 "nbformat_minor": 2
}
