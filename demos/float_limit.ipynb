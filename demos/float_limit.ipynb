{
 "cells": [
  {
   "cell_type": "code",
   "execution_count": 30,
   "metadata": {},
   "outputs": [],
   "source": [
    "import numpy as np\n",
    "\n",
    "import sys\n",
    "sys.path.insert(0, '../src')\n",
    "import node\n",
    "import bin_exploration as be\n",
    "\n",
    "def size_per_level(level):\n",
    "    return 2**level\n"
   ]
  },
  {
   "cell_type": "code",
   "execution_count": 53,
   "metadata": {},
   "outputs": [
    {
     "name": "stdout",
     "output_type": "stream",
     "text": [
      "1074,59,58,58,57,57,57,56,56,56,56,56,56,55,55,55,55,55,55,55,55,55,55,55,55,55,54,54,54,54,54,54,54,54,54,54,54,54,54,54,54,54,54,54,54,54,54,54,54,54,54,53,53,53,53,53,53,53,53,53,53,53,53,53,53,53,53,53,53,53,53,53,53,53,53,53,53,53,53,53,53,53,53,53,53,53,53,53,53,53,53,53,53,53,53,53,53,53,53,53,53,"
     ]
    }
   ],
   "source": [
    "# expanding until the float limit\n",
    "\n",
    "for i in np.linspace(0, 1, 101):\n",
    "   \n",
    "    root = node.Node(np.array([0.5]), None)\n",
    "\n",
    "    parent = root\n",
    "\n",
    "\n",
    "    count = 0\n",
    "    towards = [i]\n",
    "    while(True):\n",
    "        count += 1\n",
    "        child, _ = parent.search(towards) \n",
    "\n",
    "        if(len(child.expand())==0):\n",
    "            break\n",
    "\n",
    "        parent = child\n",
    "#     print(child._low_limit, child._high_limit)\n",
    "    print(count, end=',')    \n",
    "\n"
   ]
  },
  {
   "cell_type": "code",
   "execution_count": 69,
   "metadata": {},
   "outputs": [
    {
     "name": "stdout",
     "output_type": "stream",
     "text": [
      "11\n"
     ]
    }
   ],
   "source": [
    " print(be.Exploration_tree.compute_level(4191, 2))"
   ]
  }
 ],
 "metadata": {
  "kernelspec": {
   "display_name": "Python 3",
   "language": "python",
   "name": "python3"
  },
  "language_info": {
   "codemirror_mode": {
    "name": "ipython",
    "version": 3
   },
   "file_extension": ".py",
   "mimetype": "text/x-python",
   "name": "python",
   "nbconvert_exporter": "python",
   "pygments_lexer": "ipython3",
   "version": "3.5.2"
  }
 },
 "nbformat": 4,
 "nbformat_minor": 2
}
